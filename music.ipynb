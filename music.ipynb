{
 "cells": [
  {
   "cell_type": "code",
   "execution_count": null,
   "id": "9243a52c-7166-488e-93cd-10e30c45b3e0",
   "metadata": {
    "is_executing": true
   },
   "outputs": [],
   "source": [
    "import numpy as np\n",
    "import pandas as pd"
   ]
  },
  {
   "cell_type": "code",
   "execution_count": null,
   "id": "328b4ee2-37f4-4424-8145-377d64181b9f",
   "metadata": {
    "is_executing": true
   },
   "outputs": [],
   "source": [
    "df = pd.read_csv('lyrics.csv')"
   ]
  },
  {
   "cell_type": "code",
   "execution_count": 3,
   "id": "32f6fa29-139b-4f80-a1cd-9c1cc7b2dc07",
   "metadata": {},
   "outputs": [
    {
     "data": {
      "text/html": [
       "<div>\n",
       "<style scoped>\n",
       "    .dataframe tbody tr th:only-of-type {\n",
       "        vertical-align: middle;\n",
       "    }\n",
       "\n",
       "    .dataframe tbody tr th {\n",
       "        vertical-align: top;\n",
       "    }\n",
       "\n",
       "    .dataframe thead th {\n",
       "        text-align: right;\n",
       "    }\n",
       "</style>\n",
       "<table border=\"1\" class=\"dataframe\">\n",
       "  <thead>\n",
       "    <tr style=\"text-align: right;\">\n",
       "      <th></th>\n",
       "      <th>Unnamed: 0</th>\n",
       "      <th>Title</th>\n",
       "      <th>Lyrics</th>\n",
       "      <th>English Translations</th>\n",
       "    </tr>\n",
       "  </thead>\n",
       "  <tbody>\n",
       "    <tr>\n",
       "      <th>4220</th>\n",
       "      <td>4220</td>\n",
       "      <td>O Bedardeya</td>\n",
       "      <td>['Lyrics', 'Pyar jhootha tha jataya hi kyun', ...</td>\n",
       "      <td>['Translation', 'Why did you express your love...</td>\n",
       "    </tr>\n",
       "    <tr>\n",
       "      <th>4221</th>\n",
       "      <td>4221</td>\n",
       "      <td>Tere Vaaste</td>\n",
       "      <td>['Lyrics', 'Tere vaaste falak se main chaand l...</td>\n",
       "      <td>['Translation', \"I'll bring you the moon from ...</td>\n",
       "    </tr>\n",
       "    <tr>\n",
       "      <th>4222</th>\n",
       "      <td>4222</td>\n",
       "      <td>Phir Aur Kya Chahiye</td>\n",
       "      <td>['Lyrics', 'Badle tere maahi', 'Laake joh koyi...</td>\n",
       "      <td>['Translation', 'In exchange for you my belove...</td>\n",
       "    </tr>\n",
       "    <tr>\n",
       "      <th>4223</th>\n",
       "      <td>4223</td>\n",
       "      <td>Tum Kya Mile</td>\n",
       "      <td>['Lyrics', 'Berange the din, berangi shaamein'...</td>\n",
       "      <td>['Translation', 'My days and evenings were wit...</td>\n",
       "    </tr>\n",
       "    <tr>\n",
       "      <th>4224</th>\n",
       "      <td>4224</td>\n",
       "      <td>What Jumka</td>\n",
       "      <td>['Lyrics', 'Pretty lady, pretty lady, pretty l...</td>\n",
       "      <td>['Translation', 'Pretty lady, pretty lady, pre...</td>\n",
       "    </tr>\n",
       "    <tr>\n",
       "      <th>4225</th>\n",
       "      <td>4225</td>\n",
       "      <td>Chal Tere Ishq Mein</td>\n",
       "      <td>['Lyrics', 'Joh bhi faisla hai tera woh mujhko...</td>\n",
       "      <td>['Translation', 'Tell me your decision whateve...</td>\n",
       "    </tr>\n",
       "    <tr>\n",
       "      <th>4226</th>\n",
       "      <td>4226</td>\n",
       "      <td>Khairiyat</td>\n",
       "      <td>['Lyrics', 'Aye do jahaan ke malik sun le meri...</td>\n",
       "      <td>['Translation', 'O Lord of both the worlds, li...</td>\n",
       "    </tr>\n",
       "    <tr>\n",
       "      <th>4227</th>\n",
       "      <td>4227</td>\n",
       "      <td>Dil Jhoom</td>\n",
       "      <td>['Lyrics', 'Yeh shaukiye shararat yeh nafasat ...</td>\n",
       "      <td>['Translation', 'This style, mischief, exquisi...</td>\n",
       "    </tr>\n",
       "    <tr>\n",
       "      <th>4228</th>\n",
       "      <td>4228</td>\n",
       "      <td>Kudmayi</td>\n",
       "      <td>['Lyrics', 'Salma sitaron wali shagna di shubh...</td>\n",
       "      <td>['Translation', 'O beloved, the starry auspici...</td>\n",
       "    </tr>\n",
       "    <tr>\n",
       "      <th>4229</th>\n",
       "      <td>4229</td>\n",
       "      <td>Ve Kamleya</td>\n",
       "      <td>['Lyrics', 'Ve kamleya, ve kamleya', 'Ve kamle...</td>\n",
       "      <td>['Translation', 'O crazy one, O crazy one', 'O...</td>\n",
       "    </tr>\n",
       "  </tbody>\n",
       "</table>\n",
       "</div>"
      ],
      "text/plain": [
       "      Unnamed: 0                 Title  \\\n",
       "4220        4220           O Bedardeya   \n",
       "4221        4221           Tere Vaaste   \n",
       "4222        4222  Phir Aur Kya Chahiye   \n",
       "4223        4223          Tum Kya Mile   \n",
       "4224        4224            What Jumka   \n",
       "4225        4225   Chal Tere Ishq Mein   \n",
       "4226        4226             Khairiyat   \n",
       "4227        4227             Dil Jhoom   \n",
       "4228        4228               Kudmayi   \n",
       "4229        4229            Ve Kamleya   \n",
       "\n",
       "                                                 Lyrics  \\\n",
       "4220  ['Lyrics', 'Pyar jhootha tha jataya hi kyun', ...   \n",
       "4221  ['Lyrics', 'Tere vaaste falak se main chaand l...   \n",
       "4222  ['Lyrics', 'Badle tere maahi', 'Laake joh koyi...   \n",
       "4223  ['Lyrics', 'Berange the din, berangi shaamein'...   \n",
       "4224  ['Lyrics', 'Pretty lady, pretty lady, pretty l...   \n",
       "4225  ['Lyrics', 'Joh bhi faisla hai tera woh mujhko...   \n",
       "4226  ['Lyrics', 'Aye do jahaan ke malik sun le meri...   \n",
       "4227  ['Lyrics', 'Yeh shaukiye shararat yeh nafasat ...   \n",
       "4228  ['Lyrics', 'Salma sitaron wali shagna di shubh...   \n",
       "4229  ['Lyrics', 'Ve kamleya, ve kamleya', 'Ve kamle...   \n",
       "\n",
       "                                   English Translations  \n",
       "4220  ['Translation', 'Why did you express your love...  \n",
       "4221  ['Translation', \"I'll bring you the moon from ...  \n",
       "4222  ['Translation', 'In exchange for you my belove...  \n",
       "4223  ['Translation', 'My days and evenings were wit...  \n",
       "4224  ['Translation', 'Pretty lady, pretty lady, pre...  \n",
       "4225  ['Translation', 'Tell me your decision whateve...  \n",
       "4226  ['Translation', 'O Lord of both the worlds, li...  \n",
       "4227  ['Translation', 'This style, mischief, exquisi...  \n",
       "4228  ['Translation', 'O beloved, the starry auspici...  \n",
       "4229  ['Translation', 'O crazy one, O crazy one', 'O...  "
      ]
     },
     "execution_count": 3,
     "metadata": {},
     "output_type": "execute_result"
    }
   ],
   "source": [
    "df.tail(10)"
   ]
  },
  {
   "cell_type": "code",
   "execution_count": 4,
   "id": "b9d2d873-dd9d-4e1b-a29a-6ec11d607e7a",
   "metadata": {},
   "outputs": [
    {
     "name": "stderr",
     "output_type": "stream",
     "text": [
      "[nltk_data] Downloading package punkt to\n",
      "[nltk_data]     C:\\Users\\Chand\\AppData\\Roaming\\nltk_data...\n",
      "[nltk_data]   Package punkt is already up-to-date!\n",
      "[nltk_data] Downloading package vader_lexicon to\n",
      "[nltk_data]     C:\\Users\\Chand\\AppData\\Roaming\\nltk_data...\n",
      "[nltk_data]   Package vader_lexicon is already up-to-date!\n"
     ]
    },
    {
     "data": {
      "text/plain": [
       "True"
      ]
     },
     "execution_count": 4,
     "metadata": {},
     "output_type": "execute_result"
    }
   ],
   "source": [
    "\n",
    "import nltk\n",
    "nltk.download('punkt')\n",
    "import nltk\n",
    "nltk.download('vader_lexicon')\n",
    "\n"
   ]
  },
  {
   "cell_type": "code",
   "execution_count": 5,
   "id": "db4f07c0-5d29-404c-9393-52e3540e32bf",
   "metadata": {},
   "outputs": [],
   "source": [
    "import pandas as pd\n",
    "import re\n",
    "\n",
    "# Read the CSV file into a DataFrame\n",
    "df = pd.read_csv('lyrics.csv')\n",
    "\n",
    "# Define the combined tokenization and stemming function\n",
    "def hinglish_tokenization_and_stemming(text):\n",
    "    tokens = re.findall(r'\\b\\w+\\b', text)\n",
    "    stemmed_tokens = []\n",
    "    for token in tokens:\n",
    "        if token.endswith(('ing', 'ed', 'yon', 'ta', 'te', 'ti', 'le', 'li', 'lo', 'ya', 'ye', 'yi', 'yo', 'ra', 're', 'ri', 'ro', 'na', 'ne', 'ni', 'no')):\n",
    "            token = token[:-2]\n",
    "        elif token.endswith(('ta', 'te', 'ti', 'ya', 'ye', 'yi', 'yo', 'na', 'ne', 'ni', 'no')):\n",
    "            token = token[:-2]\n",
    "        elif token.endswith(('a', 'e', 'i', 'o', 'u')):\n",
    "            token = token[:-1]\n",
    "        stemmed_tokens.append(token)\n",
    "    return ' '.join(stemmed_tokens)\n",
    "\n",
    "# Apply the function to the Lyrics column\n",
    "df['Lyrics'] = df['Lyrics'].apply(hinglish_tokenization_and_stemming)\n",
    "\n"
   ]
  },
  {
   "cell_type": "code",
   "execution_count": 6,
   "id": "a7c2ea5c-2de2-4240-a70d-e456e834d6d6",
   "metadata": {},
   "outputs": [],
   "source": [
    "df['Lyrics'] = df['Lyrics'].apply(hinglish_tokenization_and_stemming)"
   ]
  },
  {
   "cell_type": "code",
   "execution_count": 7,
   "id": "e247b069-12a1-4387-9a9b-d2fb4af5affc",
   "metadata": {},
   "outputs": [],
   "source": [
    "df['Title'] = df['Title'].fillna('Unknown').astype(str)"
   ]
  },
  {
   "cell_type": "code",
   "execution_count": 8,
   "id": "3ab03fdc-b3a3-4229-ba0c-9388cce2520b",
   "metadata": {},
   "outputs": [],
   "source": [
    "df['Song_Type'] = df['Title'].apply(lambda title: 'sad' if 'sad' in title.lower() else 'party' if 'party' in title.lower() else 'normal')"
   ]
  },
  {
   "cell_type": "code",
   "execution_count": null,
   "id": "577823bc-0aa0-497c-9581-b88a6abd2c79",
   "metadata": {},
   "outputs": [],
   "source": []
  },
  {
   "cell_type": "code",
   "execution_count": 9,
   "id": "8a90c605-eea9-4662-885f-4aede941e576",
   "metadata": {},
   "outputs": [
    {
     "name": "stderr",
     "output_type": "stream",
     "text": [
      "[nltk_data] Downloading package vader_lexicon to\n",
      "[nltk_data]     C:\\Users\\Chand\\AppData\\Roaming\\nltk_data...\n",
      "[nltk_data]   Package vader_lexicon is already up-to-date!\n"
     ]
    },
    {
     "data": {
      "text/plain": [
       "True"
      ]
     },
     "execution_count": 9,
     "metadata": {},
     "output_type": "execute_result"
    }
   ],
   "source": [
    "from sklearn.feature_extraction.text import TfidfVectorizer\n",
    "from sklearn.metrics.pairwise import cosine_similarity\n",
    "from nltk.sentiment import SentimentIntensityAnalyzer\n",
    "from nltk import download\n",
    "\n",
    "# Download the VADER lexicon if not already downloaded\n",
    "download('vader_lexicon')"
   ]
  },
  {
   "cell_type": "code",
   "execution_count": 10,
   "id": "c010f8f2-caa9-46bf-9d9b-1386edfb2020",
   "metadata": {},
   "outputs": [],
   "source": [
    "sia = SentimentIntensityAnalyzer()"
   ]
  },
  {
   "cell_type": "code",
   "execution_count": 11,
   "id": "91876b78-8ea5-43b8-ac6d-42dafbbb1164",
   "metadata": {},
   "outputs": [],
   "source": [
    "tfidvector = TfidfVectorizer(analyzer='word', stop_words='english')\n",
    "matrix = tfidvector.fit_transform(df['Lyrics'])\n",
    "similarity = cosine_similarity(matrix)\n"
   ]
  },
  {
   "cell_type": "code",
   "execution_count": 12,
   "id": "8942432c-8d5a-4ddb-80a6-8e1a9eedbc5c",
   "metadata": {},
   "outputs": [
    {
     "data": {
      "text/plain": [
       "(4230, 15897)"
      ]
     },
     "execution_count": 12,
     "metadata": {},
     "output_type": "execute_result"
    }
   ],
   "source": [
    "matrix.shape"
   ]
  },
  {
   "cell_type": "code",
   "execution_count": 13,
   "id": "8e4774fb-119e-414c-ac0e-92ea071bbb42",
   "metadata": {},
   "outputs": [],
   "source": [
    "def recommendation(song_title, song_type=None):\n",
    "    # Get the index of the song\n",
    "    idx = df[df['Title'] == song_title].index[0]\n",
    "    \n",
    "    # Compute distances\n",
    "    distances = sorted(list(enumerate(similarity[idx])), reverse=True, key=lambda x: x[1])\n",
    "    \n",
    "    # Filter songs by song type if provided\n",
    "    songs = []\n",
    "    for m_id in distances[1:21]:\n",
    "        song_row = df.iloc[m_id[0]]\n",
    "        if song_type is None or song_row['Song_Type'] == song_type:  # Filter by song type\n",
    "            songs.append(song_row['Title'])\n",
    "    \n",
    "    return songs"
   ]
  },
  {
   "cell_type": "code",
   "execution_count": 14,
   "id": "7ad25b0c-8aac-4899-8a65-459e072aada3",
   "metadata": {},
   "outputs": [
    {
     "data": {
      "text/plain": [
       "['Bairi Piya',\n",
       " 'Piya Piya O Piya',\n",
       " 'Agar Tum Saath Ho',\n",
       " 'Chandni Raat Hai',\n",
       " 'Sona Kitna Sona Hai',\n",
       " 'Yaar Piya',\n",
       " 'Hum To Deewane Hue Yaar',\n",
       " 'Aaya Aaya',\n",
       " 'Mohabbat Ki Nahin Jaati',\n",
       " 'Mere Yaar Ki Shaadi Hai',\n",
       " 'Tu Rootha Dil Toota',\n",
       " 'Yeh Mera Dil',\n",
       " 'Mujhe Neend Na Aaye',\n",
       " 'Dil Yeh Bekarar Kyun Hai',\n",
       " 'Baatein Hawa Hai',\n",
       " 'Yari Hai Imaan Mera',\n",
       " 'Kyon Na Hum Milke Pyar',\n",
       " 'Achha Sila Diya Tune Mere Pyar Ka',\n",
       " 'Latoo',\n",
       " 'Ishq Kamaal']"
      ]
     },
     "execution_count": 14,
     "metadata": {},
     "output_type": "execute_result"
    }
   ],
   "source": [
    "recommendation('O Bedardeya')"
   ]
  },
  {
   "cell_type": "code",
   "execution_count": 15,
   "id": "1b4fa793-4fd4-4896-87ca-4bdb840faadc",
   "metadata": {},
   "outputs": [],
   "source": [
    "import pickle\n",
    "pickle.dump(similarity,open('similarity.pkl','wb'))\n",
    "pickle.dump(df,open('df.pkl','wb'))"
   ]
  },
  {
   "cell_type": "code",
   "execution_count": null,
   "id": "456d9081-682b-49d8-9cf8-118175228aab",
   "metadata": {},
   "outputs": [],
   "source": []
  }
 ],
 "metadata": {
  "kernelspec": {
   "display_name": "Python 3 (ipykernel)",
   "language": "python",
   "name": "python3"
  },
  "language_info": {
   "codemirror_mode": {
    "name": "ipython",
    "version": 3
   },
   "file_extension": ".py",
   "mimetype": "text/x-python",
   "name": "python",
   "nbconvert_exporter": "python",
   "pygments_lexer": "ipython3",
   "version": "3.12.3"
  }
 },
 "nbformat": 4,
 "nbformat_minor": 5
}
